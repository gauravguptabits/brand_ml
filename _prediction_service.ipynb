{
 "cells": [
  {
   "cell_type": "code",
   "execution_count": 2,
   "metadata": {},
   "outputs": [
    {
     "name": "stderr",
     "output_type": "stream",
     "text": [
      "[nltk_data] Downloading package stopwords to\n",
      "[nltk_data]     /home/gaurav.gupta/nltk_data...\n",
      "[nltk_data]   Package stopwords is already up-to-date!\n"
     ]
    }
   ],
   "source": [
    "%run _preprocess.ipynb"
   ]
  },
  {
   "cell_type": "code",
   "execution_count": 3,
   "metadata": {},
   "outputs": [],
   "source": [
    "import pickle\n",
    "import pandas as pd\n",
    "\n",
    "root = '/home/gaurav.gupta/projects/PoCs/brandMention/brand_ml'\n",
    "experiment_name = 'RF_FBeta_8424_Dec31'\n",
    "\n",
    "def load_model(experiment_name):\n",
    "\n",
    "    # pickle.dump(tfidf, open(\"./models/tfidf_rf_f1_9371.pickle\", \"wb\"))\n",
    "    # dump(clf, './models/rf_f1_9371.joblib')\n",
    "    experiment_path = f\"{root}/experiments/{experiment_name}\"\n",
    "    vectorizer = pickle.load(\n",
    "        open(f\"{experiment_path}/vectorizer.pickle\", \"rb\"))\n",
    "    clf = pickle.load(open(f\"{experiment_path}/classifier.pickle\", 'rb'))\n",
    "    model_dict = {'classifier': clf, 'vectorizer': vectorizer}\n",
    "    return model_dict\n"
   ]
  },
  {
   "cell_type": "code",
   "execution_count": 4,
   "metadata": {},
   "outputs": [
    {
     "data": {
      "text/html": [
       "<div>\n",
       "<style scoped>\n",
       "    .dataframe tbody tr th:only-of-type {\n",
       "        vertical-align: middle;\n",
       "    }\n",
       "\n",
       "    .dataframe tbody tr th {\n",
       "        vertical-align: top;\n",
       "    }\n",
       "\n",
       "    .dataframe thead th {\n",
       "        text-align: right;\n",
       "    }\n",
       "</style>\n",
       "<table border=\"1\" class=\"dataframe\">\n",
       "  <thead>\n",
       "    <tr style=\"text-align: right;\">\n",
       "      <th></th>\n",
       "      <th>text</th>\n",
       "      <th>orig_text</th>\n",
       "      <th>tfidf_text</th>\n",
       "      <th>Prediction</th>\n",
       "    </tr>\n",
       "  </thead>\n",
       "  <tbody>\n",
       "    <tr>\n",
       "      <th>0</th>\n",
       "      <td>This is such a poor product. It didnot worked ...</td>\n",
       "      <td>This is such a poor product. It didnot worked ...</td>\n",
       "      <td>day even poor product</td>\n",
       "      <td>1</td>\n",
       "    </tr>\n",
       "    <tr>\n",
       "      <th>0</th>\n",
       "      <td>#panasonicindia I twitted again and again but ...</td>\n",
       "      <td>#panasonicindia I twitted again and again but ...</td>\n",
       "      <td>complaint</td>\n",
       "      <td>1</td>\n",
       "    </tr>\n",
       "    <tr>\n",
       "      <th>0</th>\n",
       "      <td>@PanasonicIndia I've a 32 LCD/LED Model No. TH...</td>\n",
       "      <td>@PanasonicIndia I've a 32 LCD/LED Model No. TH...</td>\n",
       "      <td>see</td>\n",
       "      <td>1</td>\n",
       "    </tr>\n",
       "    <tr>\n",
       "      <th>0</th>\n",
       "      <td>Disposed my laptop successfully with the help ...</td>\n",
       "      <td>Disposed my laptop successfully with the help ...</td>\n",
       "      <td>help</td>\n",
       "      <td>1</td>\n",
       "    </tr>\n",
       "    <tr>\n",
       "      <th>0</th>\n",
       "      <td>Panasonic's Akhil Sethi joins Harman India as ...</td>\n",
       "      <td>Panasonic's Akhil Sethi joins Harman India as ...</td>\n",
       "      <td></td>\n",
       "      <td>1</td>\n",
       "    </tr>\n",
       "  </tbody>\n",
       "</table>\n",
       "</div>"
      ],
      "text/plain": [
       "                                                text  \\\n",
       "0  This is such a poor product. It didnot worked ...   \n",
       "0  #panasonicindia I twitted again and again but ...   \n",
       "0  @PanasonicIndia I've a 32 LCD/LED Model No. TH...   \n",
       "0  Disposed my laptop successfully with the help ...   \n",
       "0  Panasonic's Akhil Sethi joins Harman India as ...   \n",
       "\n",
       "                                           orig_text             tfidf_text  \\\n",
       "0  This is such a poor product. It didnot worked ...  day even poor product   \n",
       "0  #panasonicindia I twitted again and again but ...              complaint   \n",
       "0  @PanasonicIndia I've a 32 LCD/LED Model No. TH...                    see   \n",
       "0  Disposed my laptop successfully with the help ...                   help   \n",
       "0  Panasonic's Akhil Sethi joins Harman India as ...                          \n",
       "\n",
       "   Prediction  \n",
       "0           1  \n",
       "0           1  \n",
       "0           1  \n",
       "0           1  \n",
       "0           1  "
      ]
     },
     "execution_count": 4,
     "metadata": {},
     "output_type": "execute_result"
    }
   ],
   "source": [
    "def tfidf_to_text(vectors):\n",
    "    list_of_tokens = tfidf.inverse_transform(vectors)\n",
    "    return list(map(lambda tokens: ' '.join(tokens), list_of_tokens))\n",
    "\n",
    "\n",
    "def prediction_service(sample_text, vectorizer, clf):\n",
    "\n",
    "    sample_df = pd.DataFrame(data={'text': [sample_text]})\n",
    "    sample_df = process_data(sample_df, print_stats=False)\n",
    "    sample_vector = vectorizer.transform(sample_df['text'])\n",
    "    ans = clf.predict(sample_vector)\n",
    "    sample_df['tfidf_text'] = tfidf_to_text(sample_vector)\n",
    "    sample_df['Prediction'] = ans\n",
    "    return sample_df\n",
    "\n",
    "\n",
    "sample_text = ['This is such a poor product. It didnot worked for even 1 day',\n",
    "               \"#panasonicindia I twitted again and again but yet my complaint is not solved\",\n",
    "               \"@PanasonicIndia I've a 32 LCD/LED Model No. TH-W32ES48DX in which I'm unable to see Netflix under the Market Apps section. How do I fix this?\",\n",
    "               \"Disposed my laptop successfully with the help of @PanasonicIndia #DiwaliwaliSafai #PanasonicIndia Join @chidambar08 @dayalojha_ @AswaniJaishree\",\n",
    "               \"Panasonic's Akhil Sethi joins Harman India as digital marketing head #HarmanIndia #Panasonic #AkhilSethi #Vivo #Isobar #Devices #PanasonicIndia\",\n",
    "               ]\n",
    "\n",
    "model_dict = load_model(experiment_name)\n",
    "tfidf = model_dict['vectorizer']\n",
    "clf = model_dict['classifier']\n",
    "results = [prediction_service(t, vectorizer=tfidf, clf=clf) for t in sample_text]\n",
    "pd.concat(results)\n"
   ]
  }
 ],
 "metadata": {
  "interpreter": {
   "hash": "e490422cd5eb80d883ca3c84d0761f55a6ef3e6322675b57b784cf7be9fc5aec"
  },
  "kernelspec": {
   "display_name": "Python 3.8.12 64-bit ('venv_brand_ml': conda)",
   "language": "python",
   "name": "python3"
  },
  "language_info": {
   "codemirror_mode": {
    "name": "ipython",
    "version": 3
   },
   "file_extension": ".py",
   "mimetype": "text/x-python",
   "name": "python",
   "nbconvert_exporter": "python",
   "pygments_lexer": "ipython3",
   "version": "3.8.12"
  },
  "orig_nbformat": 4
 },
 "nbformat": 4,
 "nbformat_minor": 2
}
