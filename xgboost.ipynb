{
 "cells": [
  {
   "cell_type": "code",
   "execution_count": 9,
   "metadata": {},
   "outputs": [
    {
     "name": "stderr",
     "output_type": "stream",
     "text": [
      "[nltk_data] Downloading package stopwords to\n",
      "[nltk_data]     /home/simran.tyagi/nltk_data...\n",
      "[nltk_data]   Package stopwords is already up-to-date!\n"
     ]
    },
    {
     "data": {
      "text/plain": [
       "True"
      ]
     },
     "execution_count": 9,
     "metadata": {},
     "output_type": "execute_result"
    }
   ],
   "source": [
    "import pandas as pd\n",
    "from sklearn.model_selection import train_test_split\n",
    "from sklearn.feature_extraction.text import TfidfVectorizer\n",
    "from sklearn.metrics import confusion_matrix, accuracy_score,f1_score,recall_score,precision_score, fbeta_score\n",
    "import xgboost as xgb\n",
    "import nltk\n",
    "from tabulate import tabulate\n",
    "import os\n",
    "import matplotlib.pyplot as plt\n",
    "\n",
    "nltk.download('stopwords')"
   ]
  },
  {
   "cell_type": "code",
   "execution_count": 22,
   "metadata": {},
   "outputs": [
    {
     "name": "stderr",
     "output_type": "stream",
     "text": [
      "[nltk_data] Downloading package stopwords to\n",
      "[nltk_data]     /home/simran.tyagi/nltk_data...\n",
      "[nltk_data]   Package stopwords is already up-to-date!\n"
     ]
    },
    {
     "name": "stdout",
     "output_type": "stream",
     "text": [
      "------------------  -----------  ------------\n",
      "Step                Total words  Unique words\n",
      "Start               77684        20298\n",
      "Remove Retweet      66365        18469\n",
      "Lower               66365        16577\n",
      "Remove Retweet      66649        16528\n",
      "Lemmatize           66649        15775\n",
      "Unicode Fix         66656        15752\n",
      "Replace emoji       67043        15848\n",
      "Stop words          50235        15273\n",
      "Email Replace       50235        15266\n",
      "UserName replace    50921        14248\n",
      "HashTags Replace    64615        10461\n",
      "URL Replace         64615        8398\n",
      "MARKUP Replace      64615        8397\n",
      "Remove punctuation  64615        6668\n",
      "------------------  -----------  ------------\n"
     ]
    }
   ],
   "source": [
    "%run ./_preprocess.ipynb\n",
    "\n",
    "#ds_root = '/home/gaurav.gupta/projects/PoCs/brandMention/brand_datasets/'\n",
    "#r_path = os.path.join(ds_root, 'ds_complaints', 'panasonic_random_sample_predicted.csv')\n",
    "#r_df = read_file(r_path)\n",
    "\n",
    "#m_path = os.path.join(ds_root, 'ds_complaints', 'panasonic_v1_g.csv')\n",
    "#m_df = read_file(m_path)\n",
    "\n",
    "#raw_df = pd.concat([r_df, m_df])\n",
    "\n",
    "#raw_df.reset_index(drop=True, inplace=True)\n",
    "raw_df = pd.read_csv('/home/simran.tyagi/Downloads/panasonic_v1_f.csv')\n",
    "\n",
    "options = {\n",
    "    'handle_unicode': True,\n",
    "    'handle_emoji': True,\n",
    "    'handle_email': True,\n",
    "    'handle_username': True,\n",
    "    'handle_hashtags': True,\n",
    "    'handle_url': True,\n",
    "    'handle_markup': True,\n",
    "    'handle_retweet': True,\n",
    "    'handle_case': True,\n",
    "    'handle_lemmatization': True,\n",
    "    'handle_stopwords': True,\n",
    "    'handle_punctuation': True,\n",
    "    'handle_contractions': True,\n",
    "    'print_stats': True\n",
    "}\n",
    "df = process_data(raw_df, **options)\n",
    "\n",
    "# replace placeholders.\n",
    "df.text = df.text.str.replace('HASHTAG', '', )\n",
    "df.text = df.text.str.replace('HANDLE', '')\n",
    "df.text = df.text.str.replace('URL', '')\n",
    "df.text = df.text.str.replace('rt', '')"
   ]
  },
  {
   "cell_type": "code",
   "execution_count": 23,
   "metadata": {},
   "outputs": [
    {
     "data": {
      "text/html": [
       "<div>\n",
       "<style scoped>\n",
       "    .dataframe tbody tr th:only-of-type {\n",
       "        vertical-align: middle;\n",
       "    }\n",
       "\n",
       "    .dataframe tbody tr th {\n",
       "        vertical-align: top;\n",
       "    }\n",
       "\n",
       "    .dataframe thead th {\n",
       "        text-align: right;\n",
       "    }\n",
       "</style>\n",
       "<table border=\"1\" class=\"dataframe\">\n",
       "  <thead>\n",
       "    <tr style=\"text-align: right;\">\n",
       "      <th></th>\n",
       "      <th>created_at</th>\n",
       "      <th>text</th>\n",
       "      <th>Complaint</th>\n",
       "      <th>Type</th>\n",
       "      <th>orig_text</th>\n",
       "    </tr>\n",
       "  </thead>\n",
       "  <tbody>\n",
       "    <tr>\n",
       "      <th>0</th>\n",
       "      <td>2017-12-28 21:34:45+00:00</td>\n",
       "      <td>way skip  play guide one page time tx50ex700b ...</td>\n",
       "      <td>0</td>\n",
       "      <td>None</td>\n",
       "      <td>Is there a way of skipping through the @Freevi...</td>\n",
       "    </tr>\n",
       "    <tr>\n",
       "      <th>1</th>\n",
       "      <td>2017-12-28 02:59:00+00:00</td>\n",
       "      <td>check new kxfa133 replacement film factory sea...</td>\n",
       "      <td>0</td>\n",
       "      <td>None</td>\n",
       "      <td>Check out New Panasonic KX-FA133 Replacement F...</td>\n",
       "    </tr>\n",
       "    <tr>\n",
       "      <th>2</th>\n",
       "      <td>2017-12-25 03:54:18+00:00</td>\n",
       "      <td>come let u adore ðÿž star ðÿž film nickolas al...</td>\n",
       "      <td>0</td>\n",
       "      <td>None</td>\n",
       "      <td>O Come Let us Adore Him ðŸŽ¶ â­ï¸ ðŸŽ„\\n A F...</td>\n",
       "    </tr>\n",
       "    <tr>\n",
       "      <th>3</th>\n",
       "      <td>2017-12-24 20:07:23+00:00</td>\n",
       "      <td>sad hate company like much  india head need ur...</td>\n",
       "      <td>0</td>\n",
       "      <td>None</td>\n",
       "      <td>So sad to hate a company I liked so much #Pana...</td>\n",
       "    </tr>\n",
       "    <tr>\n",
       "      <th>4</th>\n",
       "      <td>2017-12-18 05:43:26+00:00</td>\n",
       "      <td>horrible pathetic service ordered  trimmer  ge...</td>\n",
       "      <td>0</td>\n",
       "      <td>None</td>\n",
       "      <td>Horrible pathetic service from #Flipkart.Order...</td>\n",
       "    </tr>\n",
       "    <tr>\n",
       "      <th>...</th>\n",
       "      <td>...</td>\n",
       "      <td>...</td>\n",
       "      <td>...</td>\n",
       "      <td>...</td>\n",
       "      <td>...</td>\n",
       "    </tr>\n",
       "    <tr>\n",
       "      <th>3036</th>\n",
       "      <td>NaN</td>\n",
       "      <td>late daily canon shooter  thanks</td>\n",
       "      <td>0</td>\n",
       "      <td>None</td>\n",
       "      <td>The latest The Daily Canon Shooter! https://t....</td>\n",
       "    </tr>\n",
       "    <tr>\n",
       "      <th>3037</th>\n",
       "      <td>NaN</td>\n",
       "      <td>listen  news</td>\n",
       "      <td>0</td>\n",
       "      <td>None</td>\n",
       "      <td>Listen to @BT_India News #Podcast with @rashop...</td>\n",
       "    </tr>\n",
       "    <tr>\n",
       "      <th>3039</th>\n",
       "      <td>NaN</td>\n",
       "      <td>lumix tz60 silver 9999</td>\n",
       "      <td>0</td>\n",
       "      <td>None</td>\n",
       "      <td>#Panasonic Lumix TZ60 Silver £99.99 - #Chiches...</td>\n",
       "    </tr>\n",
       "    <tr>\n",
       "      <th>3042</th>\n",
       "      <td>NaN</td>\n",
       "      <td>nice pic grinning squinting face mt   20184   ...</td>\n",
       "      <td>0</td>\n",
       "      <td>None</td>\n",
       "      <td>Nice Pic! 😆 MT @sanchexsanche #HongKong\\n2018....</td>\n",
       "    </tr>\n",
       "    <tr>\n",
       "      <th>3045</th>\n",
       "      <td>NaN</td>\n",
       "      <td>live s facebook  student present wearable soci...</td>\n",
       "      <td>0</td>\n",
       "      <td>None</td>\n",
       "      <td>Live @parsonsdesign's Facebook: @desisparsons ...</td>\n",
       "    </tr>\n",
       "  </tbody>\n",
       "</table>\n",
       "<p>2421 rows × 5 columns</p>\n",
       "</div>"
      ],
      "text/plain": [
       "                     created_at  \\\n",
       "0     2017-12-28 21:34:45+00:00   \n",
       "1     2017-12-28 02:59:00+00:00   \n",
       "2     2017-12-25 03:54:18+00:00   \n",
       "3     2017-12-24 20:07:23+00:00   \n",
       "4     2017-12-18 05:43:26+00:00   \n",
       "...                         ...   \n",
       "3036                        NaN   \n",
       "3037                        NaN   \n",
       "3039                        NaN   \n",
       "3042                        NaN   \n",
       "3045                        NaN   \n",
       "\n",
       "                                                   text  Complaint  Type  \\\n",
       "0     way skip  play guide one page time tx50ex700b ...          0  None   \n",
       "1     check new kxfa133 replacement film factory sea...          0  None   \n",
       "2     come let u adore ðÿž star ðÿž film nickolas al...          0  None   \n",
       "3     sad hate company like much  india head need ur...          0  None   \n",
       "4     horrible pathetic service ordered  trimmer  ge...          0  None   \n",
       "...                                                 ...        ...   ...   \n",
       "3036               late daily canon shooter  thanks              0  None   \n",
       "3037                            listen  news                     0  None   \n",
       "3039                           lumix tz60 silver 9999            0  None   \n",
       "3042  nice pic grinning squinting face mt   20184   ...          0  None   \n",
       "3045  live s facebook  student present wearable soci...          0  None   \n",
       "\n",
       "                                              orig_text  \n",
       "0     Is there a way of skipping through the @Freevi...  \n",
       "1     Check out New Panasonic KX-FA133 Replacement F...  \n",
       "2     O Come Let us Adore Him ðŸŽ¶ â­ï¸ ðŸŽ„\\n A F...  \n",
       "3     So sad to hate a company I liked so much #Pana...  \n",
       "4     Horrible pathetic service from #Flipkart.Order...  \n",
       "...                                                 ...  \n",
       "3036  The latest The Daily Canon Shooter! https://t....  \n",
       "3037  Listen to @BT_India News #Podcast with @rashop...  \n",
       "3039  #Panasonic Lumix TZ60 Silver £99.99 - #Chiches...  \n",
       "3042  Nice Pic! 😆 MT @sanchexsanche #HongKong\\n2018....  \n",
       "3045  Live @parsonsdesign's Facebook: @desisparsons ...  \n",
       "\n",
       "[2421 rows x 5 columns]"
      ]
     },
     "execution_count": 23,
     "metadata": {},
     "output_type": "execute_result"
    }
   ],
   "source": [
    "df"
   ]
  },
  {
   "cell_type": "code",
   "execution_count": 11,
   "metadata": {},
   "outputs": [],
   "source": [
    "from sklearn.metrics import plot_confusion_matrix\n",
    "from collections import OrderedDict\n",
    "\n",
    "\n",
    "def test_model(model):\n",
    "    pred_test = model.predict(x_test)\n",
    "    model_acc_score = accuracy_score(y_test, pred_test)\n",
    "    model_f1_score = f1_score(y_test, pred_test)\n",
    "    model_prec_score = precision_score(y_test, pred_test)\n",
    "    model_recall_score = recall_score(y_test, pred_test)\n",
    "    model_f2_score = fbeta_score(y_test, pred_test, beta=2)\n",
    "    results = []\n",
    "    results.append(('Metric',   'Score'))\n",
    "    results.append(('Accuracy', model_acc_score*100))\n",
    "    results.append(('F1 Score', model_f1_score*100))\n",
    "    results.append(('F-Beta Score', model_f2_score*100))\n",
    "    results.append(('Precision Score', model_prec_score*100))\n",
    "    results.append(('Recall Score', model_recall_score*100))\n",
    "    print(tabulate(results))\n",
    "    return pred_test\n",
    "\n",
    "\n",
    "def plot_important_features(clf, tfidf, axs):\n",
    "    # Display Important feature\n",
    "    n = 20\n",
    "    f_imp = [list(i) for i in list(zip(clf.feature_importances_, tfidf.get_feature_names()))]\n",
    "    f_imp_df = pd.DataFrame(f_imp, columns=['Importance', 'Feature'])\n",
    "    top_n_features = f_imp_df.sort_values(by=['Importance'], ascending=False).head(n).sort_values(by=['Importance'])\n",
    "    axs[1].barh(top_n_features['Feature'], top_n_features['Importance'])\n",
    "    axs[1].set_title('MOST Important feature as per RF')\n",
    "    return\n"
   ]
  },
  {
   "cell_type": "code",
   "execution_count": null,
   "metadata": {},
   "outputs": [],
   "source": []
  },
  {
   "cell_type": "code",
   "execution_count": 12,
   "metadata": {},
   "outputs": [
    {
     "name": "stdout",
     "output_type": "stream",
     "text": [
      "(2421, 233)\n",
      "[13:42:30] WARNING: ../src/learner.cc:1115: Starting in XGBoost 1.3.0, the default evaluation metric used with the objective 'binary:logistic' was changed from 'error' to 'logloss'. Explicitly set eval_metric if you'd like to restore the old behavior.\n",
      "---------------  -----------------\n",
      "Metric           Score\n",
      "Accuracy         93.53507565337001\n",
      "F1 Score         79.4759825327511\n",
      "F-Beta Score     81.39534883720931\n",
      "Precision Score  76.47058823529412\n",
      "Recall Score     82.72727272727273\n",
      "---------------  -----------------\n"
     ]
    },
    {
     "data": {
      "image/png": "[encoded data removed]",
      "text/plain": [
       "<Figure size 1800x720 with 3 Axes>"
      ]
     },
     "metadata": {
      "needs_background": "light"
     },
     "output_type": "display_data"
    }
   ],
   "source": [
    "\n",
    "labelEncoder = OrderedDict({'Not-A-Complaint': 0, 'Is-A-Complaint': 1, })\n",
    "display_labels = list(labelEncoder.keys())\n",
    "labels = list(labelEncoder.values())\n",
    "\n",
    "\n",
    "tfidf = TfidfVectorizer(lowercase=False, max_df=.8, min_df=0.01, ngram_range=(1,2))\n",
    "vectors = tfidf.fit_transform(df['text']).toarray()\n",
    "print(vectors.shape)\n",
    "x_train, x_test, y_train, y_test = train_test_split(vectors, df['Complaint'], random_state=42, test_size=0.30)\n",
    "\n",
    "model_x = xgb.XGBClassifier(use_label_encoder=False,\n",
    "                            \n",
    "                            learning_rate=0.40,\n",
    "                            n_estimators=150, \n",
    "                            max_depth=4,  \n",
    "                            subsample=0.8,  \n",
    "                            min_child_weight=.9, \n",
    "                            reg_alpha=0.6,  \n",
    "                            reg_lambda=0.3,\n",
    "                            seed=42).fit(x_train, y_train)\n",
    "\n",
    "pred_test = test_model(model_x)\n",
    "fig, axs = plt.subplots(1, 2, figsize=(25, 10), gridspec_kw={'width_ratios': [1, 4]})\n",
    "plot_confusion_matrix(model_x, x_test, y_test, labels=labels, display_labels=display_labels, ax=axs[0])\n",
    "plot_important_features(model_x, tfidf, axs)\n",
    "plt.show()\n"
   ]
  },
  {
   "cell_type": "code",
   "execution_count": 13,
   "metadata": {},
   "outputs": [
    {
     "name": "stderr",
     "output_type": "stream",
     "text": [
      "[nltk_data] Downloading package stopwords to\n",
      "[nltk_data]     /home/simran.tyagi/nltk_data...\n",
      "[nltk_data]   Package stopwords is already up-to-date!\n"
     ]
    }
   ],
   "source": [
    "import shutil\n",
    "%run ./_preprocess.ipynb\n",
    "\n",
    "root = '/home/simran.tyagi/brand_ml'\n",
    "model_dict = OrderedDict({'classifier': model_x, 'vectorizer': tfidf})\n",
    "# experiment_name = \"<Algo_name>_<MetricName>_<NGrams>_<MetricValue>_<date>\"\n",
    "experiment_name = \"Xgb_FBeta_Biigram_8538_Jan04\"\n",
    "tn, fp, fn, tp = confusion_matrix(y_test, pred_test).ravel()\n",
    "experiment_results = {\n",
    "    \"tn\": float(tn), \"fp\": float(fp), \"fn\": float(fn), \"tp\": float(tp),\n",
    "    \"model_acc_score\": float(accuracy_score(y_test, pred_test)),\n",
    "    \"model_f1_score\": float(f1_score(y_test, pred_test)),\n",
    "    \"model_prec_score\": float(precision_score(y_test, pred_test)),\n",
    "    \"model_recall_score\": float(recall_score(y_test, pred_test)),\n",
    "    \"model_f2_score\": float(fbeta_score(y_test, pred_test, beta=2)),\n",
    "}\n",
    "\n",
    "notes = {'details': ['Uni Model', 'XgBoost']}\n",
    "\n",
    "# SAVE THE EXPERIMENT ARTIFACTS\n",
    "shutil.rmtree(os.path.join(root, 'experiments',\n",
    "              experiment_name), ignore_errors=True)\n",
    "save_experiment(experiment_name, model_dict, tags=notes,\n",
    "                results=experiment_results, preprocess_details=options)\n"
   ]
  },
  {
   "cell_type": "code",
   "execution_count": 14,
   "metadata": {},
   "outputs": [],
   "source": [
    "# model_dict = load_model(experiment_name)\n",
    "# sample_vector = model_dict['vectorizer'].transform(['This raise complaint'])\n",
    "# sample_predic = model_dict['classifier'].predict(sample_vector)\n",
    "# sample_predic\n"
   ]
  }
 ],
 "metadata": {
  "interpreter": {
   "hash": "e490422cd5eb80d883ca3c84d0761f55a6ef3e6322675b57b784cf7be9fc5aec"
  },
  "kernelspec": {
   "display_name": "Python 3",
   "language": "python",
   "name": "python3"
  },
  "language_info": {
   "codemirror_mode": {
    "name": "ipython",
    "version": 3
   },
   "file_extension": ".py",
   "mimetype": "text/x-python",
   "name": "python",
   "nbconvert_exporter": "python",
   "pygments_lexer": "ipython3",
   "version": "3.8.8"
  }
 },
 "nbformat": 4,
 "nbformat_minor": 2
}
