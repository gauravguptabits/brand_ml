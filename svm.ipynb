{
 "cells": [
  {
   "cell_type": "code",

   "execution_count": 8,

   "execution_count": 2,
 
   "metadata": {},
   "outputs": [
    {
     "name": "stderr",
     "output_type": "stream",
     "text": [
      "[nltk_data] Downloading package stopwords to\n",
      "[nltk_data]     /home/gaurav.gupta/nltk_data...\n",
      "[nltk_data]   Package stopwords is already up-to-date!\n"
     ]
    },
    {
     "data": {
      "text/plain": [
       "True"
      ]
     },
     "execution_count": 8,

     "execution_count": 2,
     "metadata": {},
     "output_type": "execute_result"
    }
   ],
   "source": [
    "import pandas as pd\n",
    "from sklearn.model_selection import train_test_split, StratifiedKFold, cross_val_score\n",
    "from sklearn.feature_extraction.text import TfidfVectorizer\n",
    "from sklearn.metrics import accuracy_score,f1_score,recall_score,precision_score, fbeta_score\n",
    "from sklearn.metrics import plot_confusion_matrix\n",
    "import nltk\n",
    "nltk.download('stopwords')"
   ]
  },
  {
   "cell_type": "code",
   "execution_count": 9,

   "execution_count": 3,
   "metadata": {},
   "outputs": [
    {
     "name": "stderr",
     "output_type": "stream",
     "text": [
      "[nltk_data] Downloading package stopwords to\n",
      "[nltk_data]     /home/simran.tyagi/nltk_data...\n",

      "[nltk_data]     /home/gaurav.gupta/nltk_data...\n",
      "[nltk_data]   Package stopwords is already up-to-date!\n"
     ]
    },
    {
     "name": "stdout",
     "output_type": "stream",
     "text": [
      "------------------  -----------  ------------\n",
      "Step                Total words  Unique words\n",
      "Start               77684        20298\n",
      "Remove Retweet      66365        18469\n",
      "Lower               66365        16577\n",
      "Remove Retweet      66649        16528\n",
      "Lemmatize           66649        15775\n",
      "Start               77684        20305\n",
      "Remove Retweet      66365        18473\n",
      "Lower               66365        16581\n",
      "Remove Retweet      66649        16532\n",
      "Lemmatize           66649        15779\n",
      "Unicode Fix         66656        15752\n",
      "Replace emoji       67043        15848\n",
      "Stop words          50235        15273\n",
      "Email Replace       50235        15266\n",
      "UserName replace    50921        14248\n",
      "HashTags Replace    64615        10461\n",
      "URL Replace         64615        8398\n",
      "MARKUP Replace      64615        8397\n",
      "Remove punctuation  64615        6668\n",
      "------------------  -----------  ------------\n"
     ]
    }
   ],
   "source": [
    "%run ./_preprocess.ipynb\n",
    "\n",
    "#ds_root = '/home/gaurav.gupta/projects/PoCs/brandMention/brand_datasets/'\n",
    "#r_path = os.path.join(ds_root, 'ds_complaints', 'panasonic_random_sample_predicted.csv')\n",
    "#r_df = read_file(r_path)\n",
    "\n",
    "#m_path = os.path.join(ds_root, 'ds_complaints', 'panasonic_v1_g.csv')\n",
    "#m_df = read_file(m_path)\n",
    "\n",
    "#raw_df = pd.concat([r_df, m_df])\n",
    "#raw_df.reset_index(drop=True, inplace=True)\n",
    "raw_df = pd.read_csv('/home/simran.tyagi/Downloads/panasonic_v1_f.csv')\n",
    "\n",

    "ds_root = '/home/gaurav.gupta/projects/PoCs/brandMention/brand_datasets/'\n",
    "r_path = os.path.join(ds_root, 'ds_complaints', 'panasonic_random_sample_predicted.csv')\n",
    "r_df = read_file(r_path)\n",
    "\n",
    "m_path = os.path.join(ds_root, 'ds_complaints', 'panasonic_v1_g.csv')\n",
    "m_df = read_file(m_path)\n",
    "\n",
    "raw_df = pd.concat([r_df, m_df])\n",
    "raw_df.reset_index(drop=True, inplace=True)\n",
    "options = {\n",
    "    'handle_unicode': True,\n",
    "    'handle_emoji': True,\n",
    "    'handle_email': True,\n",
    "    'handle_username': True,\n",
    "    'handle_hashtags': True,\n",
    "    'handle_url': True,\n",
    "    'handle_markup': True,\n",
    "    'handle_retweet': True,\n",
    "    'handle_case': True,\n",
    "    'handle_lemmatization': True,\n",
    "    'handle_stopwords': True,\n",
    "    'handle_punctuation': True,\n",
    "    'handle_contractions': True,\n",
    "    'print_stats': True\n",
    "}\n",
    "df = process_data(raw_df, **options)\n",
    "\n",
    "# replace placeholders.\n",
    "df.text = df.text.str.replace('HASHTAG', '', )\n",
    "df.text = df.text.str.replace('HANDLE', '')\n",
    "df.text = df.text.str.replace('URL', '')\n",
    "df.text = df.text.str.replace('rt', '')\n"
   ]
  },
  {
   "cell_type": "code",
   "execution_count": 10,
   "execution_count": 4,
   "metadata": {},
   "outputs": [],
   "source": [
    "tfidf = TfidfVectorizer(lowercase=False, max_df=.8, min_df=0.01, ngram_range=(1, 1))  \n",
    "tfidf_wm = tfidf.fit_transform(df['text']).toarray() \n",
    "x_train, x_test, y_train, y_test = train_test_split(tfidf_wm, df['Complaint'], random_state = 42) \n"
   ]
  },
  {
   "cell_type": "code",
   "execution_count": 26,
   "metadata": {},
   "outputs": [
    {
     "name": "stdout",
     "output_type": "stream",
     "text": [
      "---------------  ------------------\n",
      "Metric           Score\n",
      "Accuracy         91.25412541254126\n",
      "F1 Score         74.88151658767774\n",
      "F-Beta Score     84.76394849785407\n",
      "Precision Score  62.698412698412696\n",
      "Recall Score     92.94117647058823\n",
      "---------------  ------------------\n"
     ]
    },
    {
     "data": {
      "text/plain": [
       "<sklearn.metrics._plot.confusion_matrix.ConfusionMatrixDisplay at 0x7f4e471d94c0>"
      ]
     },
     "execution_count": 26,
     "metadata": {},
     "output_type": "execute_result"
    },
    {
     "data": {
      "image/png": "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",
      "text/plain": [
       "<Figure size 432x288 with 2 Axes>"
      ]
     },
     "metadata": {
      "needs_background": "light"
     },
     "output_type": "display_data"
    }
   ],
   "source": [
    "from sklearn.svm import SVC\n",
    "from tabulate import tabulate\n",
    "\n",
    "\n",
    "def test_model(model):\n",
    "    pred_test = model.predict(x_test)\n",
    "    model_acc_score = accuracy_score(y_test, pred_test)\n",
    "    model_f1_score = f1_score(y_test, pred_test)\n",
    "    model_prec_score = precision_score(y_test, pred_test)\n",
    "    model_recall_score = recall_score(y_test, pred_test)\n",
    "    model_f2_score = fbeta_score(y_test, pred_test, beta=2)\n",
    "    results = []\n",
    "    results.append(('Metric',   'Score'))\n",
    "    results.append(('Accuracy', model_acc_score*100))\n",
    "    results.append(('F1 Score', model_f1_score*100))\n",
    "    results.append(('F-Beta Score', model_f2_score*100))\n",
    "    results.append(('Precision Score', model_prec_score*100))\n",
    "    results.append(('Recall Score', model_recall_score*100))\n",
    "    print(tabulate(results))\n",
    "    return pred_test\n",
    "\n",
    "svc_model = SVC(kernel='linear', C=10, random_state=42, class_weight = 'balanced')\n",
    "svc_model.fit(x_train, y_train)\n",
    "pred_test = test_model(svc_model)\n",
    "plot_confusion_matrix(svc_model, x_test, y_test)\n"
   ]
  },
  {
   "cell_type": "code",
   "execution_count": 20,
   "metadata": {},
   "outputs": [
    {
     "data": {
      "text/plain": [
       "{'C': 9,\n",
       " 'break_ties': False,\n",
       " 'cache_size': 200,\n",
       " 'class_weight': 'balanced',\n",
       " 'coef0': 0.0,\n",
       " 'decision_function_shape': 'ovr',\n",
       " 'degree': 3,\n",
       " 'gamma': 'scale',\n",
       " 'kernel': 'linear',\n",
       " 'max_iter': -1,\n",
       " 'probability': False,\n",
       " 'random_state': 42,\n",
       " 'shrinking': True,\n",
       " 'tol': 0.001,\n",
       " 'verbose': False}"
      ]
     },
     "execution_count": 20,
     "metadata": {},
     "output_type": "execute_result"
    }
   ],
   "source": [
    "svc_model.get_params()"
   "execution_count": 5,
   "metadata": {},
   "outputs": [
    {
     "name": "stdout",
     "output_type": "stream",
     "text": [
      "---------------  -----------------\n",
      "Metric           Score\n",
      "Accuracy         93.3993399339934\n",
      "F1 Score         77.52808988764045\n",
      "F-Beta Score     81.36792452830188\n",
      "Precision Score  71.875\n",
      "Recall Score     84.14634146341463\n",
      "---------------  -----------------\n"
     ]
    },
    {
     "data": {
      "text/plain": [
       "<sklearn.metrics._plot.confusion_matrix.ConfusionMatrixDisplay at 0x7fc59ddff610>"
      ]
     },
     "execution_count": 5,
     "metadata": {},
     "output_type": "execute_result"
    },
    {
     "data": {
      "image/png": "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",
      "text/plain": [
       "<Figure size 432x288 with 2 Axes>"
      ]
     },
     "metadata": {
      "needs_background": "light"
     },
     "output_type": "display_data"
    }
   ],
   "source": [
    "from sklearn.svm import SVC\n",
    "from tabulate import tabulate\n",
    "\n",
    "\n",
    "def test_model(model):\n",
    "    pred_test = model.predict(x_test)\n",
    "    model_acc_score = accuracy_score(y_test, pred_test)\n",
    "    model_f1_score = f1_score(y_test, pred_test)\n",
    "    model_prec_score = precision_score(y_test, pred_test)\n",
    "    model_recall_score = recall_score(y_test, pred_test)\n",
    "    model_f2_score = fbeta_score(y_test, pred_test, beta=2)\n",
    "    results = []\n",
    "    results.append(('Metric',   'Score'))\n",
    "    results.append(('Accuracy', model_acc_score*100))\n",
    "    results.append(('F1 Score', model_f1_score*100))\n",
    "    results.append(('F-Beta Score', model_f2_score*100))\n",
    "    results.append(('Precision Score', model_prec_score*100))\n",
    "    results.append(('Recall Score', model_recall_score*100))\n",
    "    print(tabulate(results))\n",
    "    return pred_test\n",
    "\n",
    "svc_model = SVC(kernel='linear', C=9, random_state=42)\n",
    "svc_model.fit(x_train, y_train)\n",
    "pred_test = test_model(svc_model)\n",
    "plot_confusion_matrix(svc_model, x_test, y_test)\n"
   ]
  },
  {
   "cell_type": "code",
   "execution_count": 27,
   "metadata": {},
   "outputs": [
    {
     "name": "stderr",
     "output_type": "stream",
     "text": [
      "[nltk_data] Downloading package stopwords to\n",
      "[nltk_data]     /home/simran.tyagi/nltk_data...\n",
      "[nltk_data]   Package stopwords is already up-to-date!\n"
     ]
    }
   ],
   "source": [
    "import shutil\n",
    "%run ./_preprocess.ipynb\n",
    "\n",
    "root = '/home/simran.tyagi/Desktop/brand_ml'\n",
    "model_dict = OrderedDict({'classifier': svc_model, 'vectorizer': tfidf})\n",
    "# experiment_name = \"<Algo_name>_<MetricName>_<NGrams>_<MetricValue>_<date>\"\n",
    "experiment_name = \"SVC_FBeta_Biigram_8476_Jan05\"\n",
    "tn, fp, fn, tp = confusion_matrix(y_test, pred_test).ravel()\n",
    "experiment_results = {\n",
    "    \"tn\": float(tn), \"fp\": float(fp), \"fn\": float(fn), \"tp\": float(tp),\n",
    "    \"model_acc_score\": float(accuracy_score(y_test, pred_test)),\n",
    "    \"model_f1_score\": float(f1_score(y_test, pred_test)),\n",
    "    \"model_prec_score\": float(precision_score(y_test, pred_test)),\n",
    "    \"model_recall_score\": float(recall_score(y_test, pred_test)),\n",
    "    \"model_f2_score\": float(fbeta_score(y_test, pred_test, beta=2)),\n",
    "}\n",
    "\n",
    "notes = {'details': ['Uni Model', 'SVM']}\n",
    "\n",
    "# SAVE THE EXPERIMENT ARTIFACTS\n",
    "shutil.rmtree(os.path.join(root, 'experiments',\n",
    "              experiment_name), ignore_errors=True)\n",
    "save_experiment(experiment_name, model_dict, tags=notes,\n",
    "                results=experiment_results, preprocess_details=options)"
   "execution_count": 6,
   "metadata": {},
   "outputs": [
    {
     "data": {
      "text/plain": [
       "{'C': 9,\n",
       " 'break_ties': False,\n",
       " 'cache_size': 200,\n",
       " 'class_weight': None,\n",
       " 'coef0': 0.0,\n",
       " 'decision_function_shape': 'ovr',\n",
       " 'degree': 3,\n",
       " 'gamma': 'scale',\n",
       " 'kernel': 'linear',\n",
       " 'max_iter': -1,\n",
       " 'probability': False,\n",
       " 'random_state': 42,\n",
       " 'shrinking': True,\n",
       " 'tol': 0.001,\n",
       " 'verbose': False}"
      ]
     },
     "execution_count": 6,
     "metadata": {},
     "output_type": "execute_result"
    }
   ],
   "source": [
    "svc_model.get_params()"
   ]
  }
 ],
 "metadata": {
  "interpreter": {
   "hash": "e490422cd5eb80d883ca3c84d0761f55a6ef3e6322675b57b784cf7be9fc5aec"
  },
  "kernelspec": {
   "display_name": "Python 3",
   "language": "python",
   "name": "python3"
  },
  "language_info": {
   "codemirror_mode": {
    "name": "ipython",
    "version": 3
   },
   "file_extension": ".py",
   "mimetype": "text/x-python",
   "name": "python",
   "nbconvert_exporter": "python",
   "pygments_lexer": "ipython3",
   "version": "3.8.12"
  }
 },
 "nbformat": 4,
 "nbformat_minor": 2
}
