{
 "cells": [
  {
   "cell_type": "code",
   "execution_count": 16,
   "metadata": {},
   "outputs": [],
   "source": [
    "import numpy as np \n",
    "import pandas as pd\n",
    "import matplotlib.pyplot as plt\n",
    "import seaborn as sns\n",
    "from keras.preprocessing.text import Tokenizer\n",
    "from keras.preprocessing.sequence import pad_sequences\n",
    "from keras.models import Sequential\n",
    "from keras.layers import Dense, Embedding, LSTM, SpatialDropout1D\n",
    "from sklearn.model_selection import train_test_split\n",
    "from keras.utils.np_utils import to_categorical\n",
    "from keras.callbacks import EarlyStopping\n",
    "from keras.layers import Dropout\n",
    "import re\n",
    "import tensorflow as tf\n",
    "from IPython.core.interactiveshell import InteractiveShell\n",
    "InteractiveShell.ast_node_interactivity = 'all'"
   ]
  },
  {
   "cell_type": "code",
   "execution_count": 111,
   "metadata": {},
   "outputs": [
    {
     "data": {
      "text/html": [
       "<div>\n",
       "<style scoped>\n",
       "    .dataframe tbody tr th:only-of-type {\n",
       "        vertical-align: middle;\n",
       "    }\n",
       "\n",
       "    .dataframe tbody tr th {\n",
       "        vertical-align: top;\n",
       "    }\n",
       "\n",
       "    .dataframe thead th {\n",
       "        text-align: right;\n",
       "    }\n",
       "</style>\n",
       "<table border=\"1\" class=\"dataframe\">\n",
       "  <thead>\n",
       "    <tr style=\"text-align: right;\">\n",
       "      <th></th>\n",
       "      <th>text</th>\n",
       "      <th>Complaint</th>\n",
       "    </tr>\n",
       "  </thead>\n",
       "  <tbody>\n",
       "    <tr>\n",
       "      <th>0</th>\n",
       "      <td>film   special  foil adapter ring   fz82 60x12...</td>\n",
       "      <td>0</td>\n",
       "    </tr>\n",
       "    <tr>\n",
       "      <th>1</th>\n",
       "      <td>centre awesome collection  plushies lizardele...</td>\n",
       "      <td>0</td>\n",
       "    </tr>\n",
       "  </tbody>\n",
       "</table>\n",
       "</div>"
      ],
      "text/plain": [
       "                                                text  Complaint\n",
       "0  film   special  foil adapter ring   fz82 60x12...          0\n",
       "1   centre awesome collection  plushies lizardele...          0"
      ]
     },
     "execution_count": 111,
     "metadata": {},
     "output_type": "execute_result"
    }
   ],
   "source": [
    "df = pd.read_json('../dataset/processed_data.json', lines=True)\n",
    "df = df[['text', 'Complaint']]\n",
    "df.head(2)"
   ]
  },
  {
   "cell_type": "code",
   "execution_count": 112,
   "metadata": {},
   "outputs": [
    {
     "name": "stdout",
     "output_type": "stream",
     "text": [
      "Found 6604 unique tokens.\n"
     ]
    }
   ],
   "source": [
    "# The maximum number of words to be used. (most frequent)\n",
    "MAX_NB_WORDS = 50000\n",
    "# Max number of words in each complaint.\n",
    "MAX_SEQUENCE_LENGTH = 250\n",
    "\n",
    "tokenizer = Tokenizer(num_words=MAX_NB_WORDS, filters='!\"#$%&()*+,-./:;<=>?@[\\]^_`{|}~')\n",
    "tokenizer.fit_on_texts(df['text'].values)\n",
    "word_index = tokenizer.word_index\n",
    "print('Found %s unique tokens.' % len(word_index))"
   ]
  },
  {
   "cell_type": "code",
   "execution_count": 115,
   "metadata": {},
   "outputs": [
    {
     "name": "stdout",
     "output_type": "stream",
     "text": [
      "Shape of label tensor: (2421,)\n",
      "Shape of data tensor: (2421,)\n",
      "(1694, 250) (1694,)\n",
      "(727, 250) (727,)\n"
     ]
    }
   ],
   "source": [
    "X = df['text']\n",
    "Y = df['Complaint']\n",
    "\n",
    "raw_X_train, raw_X_test, Y_train, Y_test = train_test_split(X, Y, test_size=0.30, random_state=42)\n",
    "\n",
    "def convert_text(texts):\n",
    "    X = tokenizer.texts_to_sequences(texts.values)\n",
    "    X = pad_sequences(X, maxlen=MAX_SEQUENCE_LENGTH)\n",
    "    return X\n",
    "X_train = convert_text(raw_X_train)\n",
    "X_test = convert_text(raw_X_test)\n",
    "\n",
    "print('Shape of label tensor:', Y.shape)\n",
    "print('Shape of data tensor:', X.shape)\n",
    "print(X_train.shape,Y_train.shape)\n",
    "print(X_test.shape,Y_test.shape)"
   ]
  },
  {
   "cell_type": "code",
   "execution_count": 116,
   "metadata": {},
   "outputs": [
    {
     "name": "stdout",
     "output_type": "stream",
     "text": [
      "Epoch 1/5\n",
      "24/24 [==============================] - 9s 262ms/step - loss: 0.5322 - recall_16: 0.0139 - precision_16: 0.1143 - val_loss: 0.4653 - val_recall_16: 0.0000e+00 - val_precision_16: 0.0000e+00\n",
      "Epoch 2/5\n",
      "24/24 [==============================] - 6s 238ms/step - loss: 0.4319 - recall_16: 0.0208 - precision_16: 1.0000 - val_loss: 0.3696 - val_recall_16: 0.3462 - val_precision_16: 1.0000\n",
      "Epoch 3/5\n",
      "24/24 [==============================] - 6s 247ms/step - loss: 0.3004 - recall_16: 0.4931 - precision_16: 0.9045 - val_loss: 0.2842 - val_recall_16: 0.8846 - val_precision_16: 0.5897\n",
      "Epoch 4/5\n",
      "24/24 [==============================] - 6s 241ms/step - loss: 0.1674 - recall_16: 0.8264 - precision_16: 0.9189 - val_loss: 0.1805 - val_recall_16: 0.9231 - val_precision_16: 0.7500\n",
      "Epoch 5/5\n",
      "24/24 [==============================] - 6s 260ms/step - loss: 0.0910 - recall_16: 0.8958 - precision_16: 0.9591 - val_loss: 0.1801 - val_recall_16: 0.9231 - val_precision_16: 0.7742\n"
     ]
    }
   ],
   "source": [
    "\n",
    "import tensorflow_hub as hub\n",
    "\n",
    "Precision = tf.keras.metrics.Precision()\n",
    "Recall = tf.keras.metrics.Recall()\n",
    "# This is fixed.\n",
    "EMBEDDING_DIM = 20\n",
    "\n",
    "# embedding = \"https://tfhub.dev/google/nnlm-en-dim50/2\"\n",
    "# embedding = 'https://tfhub.dev/google/Wiki-words-500-with-normalization/2'\n",
    "# hub_layer = hub.KerasLayer(embedding, input_shape=[], dtype=tf.string, trainable=False)\n",
    "embed_dim = 100\n",
    "\n",
    "\n",
    "model = Sequential()\n",
    "# model.add(hub_layer)\n",
    "model.add(Embedding(MAX_NB_WORDS, EMBEDDING_DIM, input_length=250))\n",
    "model.add(SpatialDropout1D(0.2))\n",
    "model.add(LSTM(100, dropout=0.2, recurrent_dropout=0.2))\n",
    "model.add(Dense(1, activation='sigmoid'))\n",
    "model.compile(loss='binary_crossentropy',\n",
    "              optimizer='adam', \n",
    "              metrics=[Recall, Precision])\n",
    "# print(model.summary())\n",
    "\n",
    "epochs = 5\n",
    "batch_size = 64\n",
    "\n",
    "history = model.fit(X_train, Y_train, epochs=epochs, batch_size=batch_size,validation_split=0.1,callbacks=[EarlyStopping(monitor='val_loss', patience=3, min_delta=0.0001)])\n"
   ]
  },
  {
   "cell_type": "code",
   "execution_count": 147,
   "metadata": {},
   "outputs": [
    {
     "name": "stdout",
     "output_type": "stream",
     "text": [
      "23/23 - 1s - loss: 0.1612 - recall_16: 0.8173 - precision_16: 0.7870 - 723ms/epoch - 31ms/step\n",
      "loss: 0.161\n",
      "recall_16: 0.817\n",
      "precision_16: 0.787\n",
      "Precision: 0.7870370370370371\tRecall: 0.8173076923076923\tFbeta: 0.8052217960357666\n"
     ]
    }
   ],
   "source": [
    "import tensorflow_addons as tfa\n",
    "from sklearn.metrics import precision_score, recall_score\n",
    "\n",
    "results = model.evaluate(X_test, Y_test, verbose=2)\n",
    "\n",
    "\n",
    "# TEST on HOLD-OUT set.\n",
    "for name, value in zip(model.metrics_names, results):\n",
    "  print(\"%s: %.3f\" % (name, value))\n",
    "\n",
    "\n",
    "def fbeta_score(Y_test, y_test_pred, beta):\n",
    "    metric = tfa.metrics.FBetaScore(num_classes=1, beta=beta, threshold=0.5)\n",
    "    Actuals = np.reshape(Y_test.values, (Y_test.shape[0], 1))\n",
    "    metric.update_state(Actuals, y_test_pred)\n",
    "    result = metric.result()\n",
    "    return result.numpy()[0]\n",
    "\n",
    "output = model.predict(X_test)\n",
    "y_test_pred = np.round(output)\n",
    "prec = precision_score(Y_test, y_test_pred)\n",
    "recall = recall_score(Y_test, y_test_pred)\n",
    "f125 = fbeta_score(Y_test, y_test_pred, beta=1.25)\n",
    "    \n",
    "print(f'Precision: {prec}\\tRecall: {recall}\\tFbeta: {f125}')\n",
    "# print(f'F2:{f2}\\tF1.25: {f125}')\n"
   ]
  },
  {
   "cell_type": "code",
   "execution_count": 85,
   "metadata": {},
   "outputs": [
    {
     "name": "stdout",
     "output_type": "stream",
     "text": [
      "INFO:tensorflow:Assets written to: ../experiments/lstm_local_embedding/assets\n"
     ]
    },
    {
     "name": "stderr",
     "output_type": "stream",
     "text": [
      "INFO:tensorflow:Assets written to: ../experiments/lstm_local_embedding/assets\n",
      "WARNING:absl:<keras.layers.recurrent.LSTMCell object at 0x7f9ba6b1e220> has the same name 'LSTMCell' as a built-in Keras object. Consider renaming <class 'keras.layers.recurrent.LSTMCell'> to avoid naming conflicts when loading with `tf.keras.models.load_model`. If renaming is not possible, pass the object in the `custom_objects` parameter of the load function.\n"
     ]
    }
   ],
   "source": [
    "model.save('../experiments/lstm_local_embedding')"
   ]
  },
  {
   "cell_type": "code",
   "execution_count": 106,
   "metadata": {},
   "outputs": [
    {
     "data": {
      "text/html": [
       "<div>\n",
       "<style scoped>\n",
       "    .dataframe tbody tr th:only-of-type {\n",
       "        vertical-align: middle;\n",
       "    }\n",
       "\n",
       "    .dataframe tbody tr th {\n",
       "        vertical-align: top;\n",
       "    }\n",
       "\n",
       "    .dataframe thead th {\n",
       "        text-align: right;\n",
       "    }\n",
       "</style>\n",
       "<table border=\"1\" class=\"dataframe\">\n",
       "  <thead>\n",
       "    <tr style=\"text-align: right;\">\n",
       "      <th></th>\n",
       "      <th>test_text</th>\n",
       "      <th>Actuals</th>\n",
       "      <th>Predicted</th>\n",
       "    </tr>\n",
       "  </thead>\n",
       "  <tbody>\n",
       "    <tr>\n",
       "      <th>479</th>\n",
       "      <td>lockdown could excuse non communication custo...</td>\n",
       "      <td>0</td>\n",
       "      <td>0.0</td>\n",
       "    </tr>\n",
       "    <tr>\n",
       "      <th>1010</th>\n",
       "      <td>make battery   deal wrong people</td>\n",
       "      <td>0</td>\n",
       "      <td>0.0</td>\n",
       "    </tr>\n",
       "    <tr>\n",
       "      <th>2197</th>\n",
       "      <td>bad service  unsatisfied customer  default pr...</td>\n",
       "      <td>1</td>\n",
       "      <td>1.0</td>\n",
       "    </tr>\n",
       "    <tr>\n",
       "      <th>2274</th>\n",
       "      <td>entry no keycap 5 team  challenge   complete...</td>\n",
       "      <td>0</td>\n",
       "      <td>0.0</td>\n",
       "    </tr>\n",
       "    <tr>\n",
       "      <th>610</th>\n",
       "      <td>last light dmcg81 lumix g vario 1235f28 1640 s...</td>\n",
       "      <td>0</td>\n",
       "      <td>0.0</td>\n",
       "    </tr>\n",
       "    <tr>\n",
       "      <th>...</th>\n",
       "      <td>...</td>\n",
       "      <td>...</td>\n",
       "      <td>...</td>\n",
       "    </tr>\n",
       "    <tr>\n",
       "      <th>1127</th>\n",
       "      <td>know bad make  look  sell    merchandise  ...</td>\n",
       "      <td>1</td>\n",
       "      <td>0.0</td>\n",
       "    </tr>\n",
       "    <tr>\n",
       "      <th>1838</th>\n",
       "      <td>close operation india last 1 week chase servi...</td>\n",
       "      <td>1</td>\n",
       "      <td>1.0</td>\n",
       "    </tr>\n",
       "    <tr>\n",
       "      <th>270</th>\n",
       "      <td>memories</td>\n",
       "      <td>0</td>\n",
       "      <td>0.0</td>\n",
       "    </tr>\n",
       "    <tr>\n",
       "      <th>1347</th>\n",
       "      <td>s1r s1 land thud compete poorly medium format</td>\n",
       "      <td>0</td>\n",
       "      <td>0.0</td>\n",
       "    </tr>\n",
       "    <tr>\n",
       "      <th>1050</th>\n",
       "      <td>want buy piece mind buy new tv course do get f...</td>\n",
       "      <td>0</td>\n",
       "      <td>1.0</td>\n",
       "    </tr>\n",
       "  </tbody>\n",
       "</table>\n",
       "<p>727 rows × 3 columns</p>\n",
       "</div>"
      ],
      "text/plain": [
       "                                              test_text  Actuals  Predicted\n",
       "479    lockdown could excuse non communication custo...        0        0.0\n",
       "1010                  make battery   deal wrong people         0        0.0\n",
       "2197   bad service  unsatisfied customer  default pr...        1        1.0\n",
       "2274    entry no keycap 5 team  challenge   complete...        0        0.0\n",
       "610   last light dmcg81 lumix g vario 1235f28 1640 s...        0        0.0\n",
       "...                                                 ...      ...        ...\n",
       "1127      know bad make  look  sell    merchandise  ...        1        0.0\n",
       "1838   close operation india last 1 week chase servi...        1        1.0\n",
       "270                                   memories                 0        0.0\n",
       "1347     s1r s1 land thud compete poorly medium format         0        0.0\n",
       "1050  want buy piece mind buy new tv course do get f...        0        1.0\n",
       "\n",
       "[727 rows x 3 columns]"
      ]
     },
     "execution_count": 106,
     "metadata": {},
     "output_type": "execute_result"
    }
   ],
   "source": [
    "df = pd.DataFrame()\n",
    "df['test_text'] = raw_X_test\n",
    "df['Actuals'] = Y_test\n",
    "df['Predicted'] = np.reshape(y_test_pred, (y_test_pred.shape[0], 1))\n",
    "df"
   ]
  }
 ],
 "metadata": {
  "kernelspec": {
   "display_name": "Python 3",
   "language": "python",
   "name": "python3"
  },
  "language_info": {
   "codemirror_mode": {
    "name": "ipython",
    "version": 3
   },
   "file_extension": ".py",
   "mimetype": "text/x-python",
   "name": "python",
   "nbconvert_exporter": "python",
   "pygments_lexer": "ipython3",
   "version": "3.8.12"
  }
 },
 "nbformat": 4,
 "nbformat_minor": 2
}
